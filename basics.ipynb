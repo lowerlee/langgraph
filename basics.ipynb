{
 "cells": [
  {
   "cell_type": "code",
   "execution_count": 1,
   "metadata": {},
   "outputs": [],
   "source": [
    "import getpass\n",
    "import os\n",
    "\n",
    "\n",
    "def set_env(var: str):\n",
    "    if not os.environ.get(var):\n",
    "        os.environ[var] = getpass.getpass(f\"{var}: \")\n",
    "\n",
    "\n",
    "set_env(\"ANTHROPIC_API_KEY\")\n",
    "set_env(\"BRAVE_API_KEY\")"
   ]
  },
  {
   "cell_type": "markdown",
   "metadata": {},
   "source": [
    "### Build a Basic Chatbot"
   ]
  },
  {
   "cell_type": "code",
   "execution_count": 26,
   "metadata": {},
   "outputs": [],
   "source": [
    "from typing import Annotated\n",
    "\n",
    "from typing_extensions import TypedDict\n",
    "\n",
    "from langgraph.graph import StateGraph, START, END\n",
    "from langgraph.graph.message import add_messages\n",
    "\n",
    "\n",
    "class State(TypedDict):\n",
    "    # Messages have the type \"list\". The `add_messages` function\n",
    "    # in the annotation defines how this state key should be updated\n",
    "    # (in this case, it appends messages to the list, rather than overwriting them)\n",
    "    messages: Annotated[list, add_messages]\n",
    "\n",
    "\n",
    "graph_builder = StateGraph(State)"
   ]
  },
  {
   "cell_type": "code",
   "execution_count": 27,
   "metadata": {},
   "outputs": [
    {
     "data": {
      "text/plain": [
       "<langgraph.graph.state.StateGraph at 0x7fcc524db350>"
      ]
     },
     "execution_count": 27,
     "metadata": {},
     "output_type": "execute_result"
    }
   ],
   "source": [
    "from langchain_anthropic import ChatAnthropic\n",
    "\n",
    "llm = ChatAnthropic(model=\"claude-3-5-haiku-20241022\")\n",
    "\n",
    "\n",
    "def chatbot(state: State):\n",
    "    return {\"messages\": [llm.invoke(state[\"messages\"])]}\n",
    "\n",
    "\n",
    "graph_builder.add_node(\"chatbot\", chatbot)"
   ]
  },
  {
   "cell_type": "code",
   "execution_count": 28,
   "metadata": {},
   "outputs": [],
   "source": [
    "graph_builder.add_edge(START, \"chatbot\")\n",
    "\n",
    "graph_builder.add_edge(\"chatbot\", END)\n",
    "\n",
    "graph = graph_builder.compile()"
   ]
  },
  {
   "cell_type": "code",
   "execution_count": 29,
   "metadata": {},
   "outputs": [
    {
     "data": {
      "image/png": "[encoded data removed]",
      "text/plain": [
       "<IPython.core.display.Image object>"
      ]
     },
     "metadata": {},
     "output_type": "display_data"
    }
   ],
   "source": [
    "from IPython.display import Image, display\n",
    "\n",
    "try:\n",
    "    display(Image(graph.get_graph().draw_mermaid_png()))\n",
    "except Exception:\n",
    "    pass"
   ]
  },
  {
   "cell_type": "code",
   "execution_count": 8,
   "metadata": {},
   "outputs": [
    {
     "name": "stdout",
     "output_type": "stream",
     "text": [
      "User: What do you know about LangGraph?\n",
      "Assistant: [{'text': \"To provide you with accurate and up-to-date information about LangGraph, I'll need to search for the latest details. Let me do that for you.\", 'type': 'text'}, {'id': 'toolu_015S7XV5WM9BuyPL8p1E2G9n', 'input': {'query': 'LangGraph AI tool'}, 'name': 'brave_search', 'type': 'tool_use'}]\n",
      "Assistant: \"[{\\\"title\\\": \\\"LangGraph\\\", \\\"link\\\": \\\"https://langchain-ai.github.io/langgraph/\\\", \\\"snippet\\\": \\\"The <strong>LangGraph</strong> Platform consists of several components that work together to support the development, deployment, debugging, and monitoring of <strong>LangGraph</strong> applications: <strong>LangGraph</strong> Server (APIs), <strong>LangGraph</strong> SDKs (clients for the APIs), <strong>LangGraph</strong> CLI (command line <strong>tool</strong> for building the server), and ...\\\"}, {\\\"title\\\": \\\"How to Build AI Agents with LangGraph: A Step-by-Step Guide | by Lore Van Oudenhove | Medium\\\", \\\"link\\\": \\\"https://medium.com/@lorevanoudenhove/how-to-build-ai-agents-with-langgraph-a-step-by-step-guide-5d84d9c7e832\\\", \\\"snippet\\\": \\\"Enter AI agents \\\\u2014 autonomous entities capable of performing complex, multi-step tasks, maintaining state across interactions, and dynamically adapting to new information. LangGraph, <strong>a powerful extension of the LangChain library</strong>, is designed to help developers build these advanced AI agents ...\\\"}, {\\\"title\\\": \\\"GitHub - langchain-ai/langgraph: Build resilient language agents as graphs.\\\", \\\"link\\\": \\\"https://github.com/langchain-ai/langgraph\\\", \\\"snippet\\\": \\\"The <strong>LangGraph</strong> Platform consists of several components that work together to support the development, deployment, debugging, and monitoring of <strong>LangGraph</strong> applications: <strong>LangGraph</strong> Server (APIs), <strong>LangGraph</strong> SDKs (clients for the APIs), <strong>LangGraph</strong> CLI (command line <strong>tool</strong> for building the server), and ...\\\"}]\"\n",
      "Assistant: Based on the search results, I can provide you with information about LangGraph:\n",
      "\n",
      "1. Definition and Purpose:\n",
      "   LangGraph is a powerful extension of the LangChain library. It's designed to help developers build advanced AI agents capable of performing complex, multi-step tasks, maintaining state across interactions, and dynamically adapting to new information.\n",
      "\n",
      "2. Components:\n",
      "   The LangGraph Platform consists of several components that work together:\n",
      "   - LangGraph Server (APIs)\n",
      "   - LangGraph SDKs (clients for the APIs)\n",
      "   - LangGraph CLI (command-line tool for building the server)\n",
      "   - Additional tools for debugging and monitoring LangGraph applications\n",
      "\n",
      "3. Functionality:\n",
      "   LangGraph is particularly useful for building resilient language agents as graphs. This suggests that it allows developers to create AI agents with more sophisticated decision-making capabilities and better state management.\n",
      "\n",
      "4. Integration:\n",
      "   As an extension of LangChain, LangGraph likely integrates well with other LangChain components and workflows, making it a valuable tool for developers already familiar with the LangChain ecosystem.\n",
      "\n",
      "5. Development and Deployment:\n",
      "   LangGraph supports the entire lifecycle of AI agent applications, from development and deployment to debugging and monitoring.\n",
      "\n",
      "6. Open Source:\n",
      "   LangGraph appears to be an open-source project, with its code available on GitHub (github.com/langchain-ai/langgraph).\n",
      "\n",
      "7. Use Cases:\n",
      "   While specific use cases weren't mentioned in the search results, the tool's capabilities suggest it could be useful for creating chatbots, virtual assistants, automated problem-solving systems, and other AI applications that require complex reasoning and multi-step processes.\n",
      "\n",
      "LangGraph seems to be a cutting-edge tool in the field of AI development, particularly for creating sophisticated AI agents with advanced capabilities. It's part of the broader trend in AI towards more complex, stateful, and adaptable systems that can handle a wide range of tasks and interactions.\n"
     ]
    }
   ],
   "source": [
    "def stream_graph_updates(user_input: str):\n",
    "    for event in graph.stream({\"messages\": [{\"role\": \"user\", \"content\": user_input}]}):\n",
    "        for value in event.values():\n",
    "            print(\"Assistant:\", value[\"messages\"][-1].content)\n",
    "\n",
    "\n",
    "while True:\n",
    "    try:\n",
    "        user_input = input(\"User: \")\n",
    "        if user_input.lower() in [\"quit\", \"exit\", \"q\"]:\n",
    "            print(\"Goodbye!\")\n",
    "            break\n",
    "\n",
    "        stream_graph_updates(user_input)\n",
    "    except:\n",
    "        user_input = \"What do you know about LangGraph?\"\n",
    "        print(\"User: \" + user_input)\n",
    "        stream_graph_updates(user_input)\n",
    "        break"
   ]
  },
  {
   "cell_type": "markdown",
   "metadata": {},
   "source": [
    "### Enhancing the Chatbot with Tools"
   ]
  },
  {
   "cell_type": "code",
   "execution_count": 2,
   "metadata": {},
   "outputs": [
    {
     "data": {
      "text/plain": [
       "'[{\"title\": \"Mastering LangGraph: A Beginner\\'s Guide to Building Intelligent Language Models | Medium\", \"link\": \"https://medium.com/@cplog/introduction-to-langgraph-a-beginners-guide-14f9be027141\", \"snippet\": \"Nodes: Nodes are <strong>the building blocks of your LangGraph</strong>. Each node represents a function or a computation step. You define nodes to perform specific tasks, such as processing input, making decisions, or interacting with external APIs.\"}, {\"title\": \"LangGraph Glossary\", \"link\": \"https://langchain-ai.github.io/langgraph/concepts/low_level/\", \"snippet\": \"You define the behavior of your agents using three key components: State: A shared data structure that represents the current snapshot of your application. It can be any Python type, but is typically a TypedDict or Pydantic BaseModel. Nodes: <strong>Python functions that encode the logic of your agents</strong>.\"}, {\"title\": \"LangGraph Tutorial: What Is LangGraph and How to Use It? | DataCamp\", \"link\": \"https://www.datacamp.com/tutorial/langgraph-tutorial\", \"snippet\": \"This fault tolerance is essential for maintaining the stability and robustness of complex multi-agent systems. Peace of mind is just a feature away. Let\\\\u2019s see how we can set up LangGraph and what the basic concepts are. ... Nodes: Nodes <strong>represent units of work within your LangGraph</strong>.\"}]'"
      ]
     },
     "execution_count": 2,
     "metadata": {},
     "output_type": "execute_result"
    }
   ],
   "source": [
    "from langchain_community.tools import BraveSearch\n",
    "\n",
    "api_key = os.environ[\"BRAVE_API_KEY\"]\n",
    "\n",
    "tool = BraveSearch.from_api_key(api_key=api_key, search_kwargs={\"count\": 3})\n",
    "tools = [tool]\n",
    "tool.invoke(\"What's a 'node' in LangGraph?\")"
   ]
  },
  {
   "cell_type": "code",
   "execution_count": 3,
   "metadata": {},
   "outputs": [
    {
     "data": {
      "text/plain": [
       "<langgraph.graph.state.StateGraph at 0x7fc1a03fec90>"
      ]
     },
     "execution_count": 3,
     "metadata": {},
     "output_type": "execute_result"
    }
   ],
   "source": [
    "from typing import Annotated\n",
    "\n",
    "from langchain_anthropic import ChatAnthropic\n",
    "from typing_extensions import TypedDict\n",
    "\n",
    "from langgraph.graph import StateGraph, START, END\n",
    "from langgraph.graph.message import add_messages\n",
    "\n",
    "\n",
    "class State(TypedDict):\n",
    "    messages: Annotated[list, add_messages]\n",
    "\n",
    "\n",
    "graph_builder = StateGraph(State)\n",
    "\n",
    "\n",
    "llm = ChatAnthropic(model=\"claude-3-5-sonnet-20240620\")\n",
    "# Modification: tell the LLM which tools it can call\n",
    "llm_with_tools = llm.bind_tools(tools)\n",
    "\n",
    "\n",
    "def chatbot(state: State):\n",
    "    return {\"messages\": [llm_with_tools.invoke(state[\"messages\"])]}\n",
    "\n",
    "\n",
    "graph_builder.add_node(\"chatbot\", chatbot)"
   ]
  },
  {
   "cell_type": "code",
   "execution_count": 4,
   "metadata": {},
   "outputs": [
    {
     "data": {
      "text/plain": [
       "<langgraph.graph.state.StateGraph at 0x7fc1a03fec90>"
      ]
     },
     "execution_count": 4,
     "metadata": {},
     "output_type": "execute_result"
    }
   ],
   "source": [
    "import json\n",
    "\n",
    "from langchain_core.messages import ToolMessage\n",
    "\n",
    "\n",
    "class BasicToolNode:\n",
    "    \"\"\"A node that runs the tools requested in the last AIMessage.\"\"\"\n",
    "\n",
    "    def __init__(self, tools: list) -> None:\n",
    "        self.tools_by_name = {tool.name: tool for tool in tools}\n",
    "\n",
    "    def __call__(self, inputs: dict):\n",
    "        if messages := inputs.get(\"messages\", []):\n",
    "            message = messages[-1]\n",
    "        else:\n",
    "            raise ValueError(\"No message found in input\")\n",
    "        outputs = []\n",
    "        for tool_call in message.tool_calls:\n",
    "            tool_result = self.tools_by_name[tool_call[\"name\"]].invoke(\n",
    "                tool_call[\"args\"]\n",
    "            )\n",
    "            outputs.append(\n",
    "                ToolMessage(\n",
    "                    content=json.dumps(tool_result),\n",
    "                    name=tool_call[\"name\"],\n",
    "                    tool_call_id=tool_call[\"id\"],\n",
    "                )\n",
    "            )\n",
    "        return {\"messages\": outputs}\n",
    "\n",
    "\n",
    "tool_node = BasicToolNode(tools=[tool])\n",
    "graph_builder.add_node(\"tools\", tool_node)"
   ]
  },
  {
   "cell_type": "code",
   "execution_count": 5,
   "metadata": {},
   "outputs": [],
   "source": [
    "def route_tools(\n",
    "    state: State,\n",
    "):\n",
    "    \"\"\"\n",
    "    Use in the conditional_edge to route to the ToolNode if the last message\n",
    "    has tool calls. Otherwise, route to the end.\n",
    "    \"\"\"\n",
    "    if isinstance(state, list):\n",
    "        ai_message = state[-1]\n",
    "    elif messages := state.get(\"messages\", []):\n",
    "        ai_message = messages[-1]\n",
    "    else:\n",
    "        raise ValueError(f\"No messages found in input state to tool_edge: {state}\")\n",
    "    if hasattr(ai_message, \"tool_calls\") and len(ai_message.tool_calls) > 0:\n",
    "        return \"tools\"\n",
    "    return END\n",
    "\n",
    "\n",
    "# The `tools_condition` function returns \"tools\" if the chatbot asks to use a tool, and \"END\" if\n",
    "# it is fine directly responding. This conditional routing defines the main agent loop.\n",
    "graph_builder.add_conditional_edges(\n",
    "    \"chatbot\",\n",
    "    route_tools,\n",
    "    # The following dictionary lets you tell the graph to interpret the condition's outputs as a specific node\n",
    "    # It defaults to the identity function, but if you\n",
    "    # want to use a node named something else apart from \"tools\",\n",
    "    # You can update the value of the dictionary to something else\n",
    "    # e.g., \"tools\": \"my_tools\"\n",
    "    {\"tools\": \"tools\", END: END},\n",
    ")\n",
    "# Any time a tool is called, we return to the chatbot to decide the next step\n",
    "graph_builder.add_edge(\"tools\", \"chatbot\")\n",
    "graph_builder.add_edge(START, \"chatbot\")\n",
    "graph = graph_builder.compile()"
   ]
  },
  {
   "cell_type": "code",
   "execution_count": 6,
   "metadata": {},
   "outputs": [
    {
     "data": {
      "image/png": "[encoded data removed]",
      "text/plain": [
       "<IPython.core.display.Image object>"
      ]
     },
     "metadata": {},
     "output_type": "display_data"
    }
   ],
   "source": [
    "from IPython.display import Image, display\n",
    "\n",
    "try:\n",
    "    display(Image(graph.get_graph().draw_mermaid_png()))\n",
    "except Exception:\n",
    "    # This requires some extra dependencies and is optional\n",
    "    pass"
   ]
  },
  {
   "cell_type": "code",
   "execution_count": null,
   "metadata": {},
   "outputs": [
    {
     "name": "stdout",
     "output_type": "stream",
     "text": [
      "User: What do you know about LangGraph?\n",
      "Assistant: [{'text': \"To answer your question about LangGraph, I'll need to search for the most up-to-date information. Let me do that for you.\", 'type': 'text'}, {'id': 'toolu_01P2EYPBSDxLbhnSQqRQnCAY', 'input': {'query': 'LangGraph AI tool'}, 'name': 'brave_search', 'type': 'tool_use'}]\n",
      "Assistant: \"[{\\\"title\\\": \\\"LangGraph\\\", \\\"link\\\": \\\"https://langchain-ai.github.io/langgraph/\\\", \\\"snippet\\\": \\\"The <strong>LangGraph</strong> Platform consists of several components that work together to support the development, deployment, debugging, and monitoring of <strong>LangGraph</strong> applications: <strong>LangGraph</strong> Server (APIs), <strong>LangGraph</strong> SDKs (clients for the APIs), <strong>LangGraph</strong> CLI (command line <strong>tool</strong> for building the server), and ...\\\"}, {\\\"title\\\": \\\"How to Build AI Agents with LangGraph: A Step-by-Step Guide | by Lore Van Oudenhove | Medium\\\", \\\"link\\\": \\\"https://medium.com/@lorevanoudenhove/how-to-build-ai-agents-with-langgraph-a-step-by-step-guide-5d84d9c7e832\\\", \\\"snippet\\\": \\\"Enter AI agents \\\\u2014 autonomous entities capable of performing complex, multi-step tasks, maintaining state across interactions, and dynamically adapting to new information. LangGraph, <strong>a powerful extension of the LangChain library</strong>, is designed to help developers build these advanced AI agents ...\\\"}, {\\\"title\\\": \\\"GitHub - langchain-ai/langgraph: Build resilient language agents as graphs.\\\", \\\"link\\\": \\\"https://github.com/langchain-ai/langgraph\\\", \\\"snippet\\\": \\\"The <strong>LangGraph</strong> Platform consists of several components that work together to support the development, deployment, debugging, and monitoring of <strong>LangGraph</strong> applications: <strong>LangGraph</strong> Server (APIs), <strong>LangGraph</strong> SDKs (clients for the APIs), <strong>LangGraph</strong> CLI (command line <strong>tool</strong> for building the server), and ...\\\"}]\"\n",
      "Assistant: Based on the search results, I can provide you with information about LangGraph:\n",
      "\n",
      "1. Purpose: LangGraph is a powerful extension of the LangChain library designed to help developers build advanced AI agents. It's specifically created for building resilient language agents as graphs.\n",
      "\n",
      "2. Components: The LangGraph Platform consists of several components working together:\n",
      "   - LangGraph Server (APIs)\n",
      "   - LangGraph SDKs (clients for the APIs)\n",
      "   - LangGraph CLI (command-line tool for building the server)\n",
      "   - Additional tools for debugging and monitoring LangGraph applications\n",
      "\n",
      "3. Functionality: LangGraph supports the development, deployment, debugging, and monitoring of LangGraph applications. It enables the creation of AI agents that can:\n",
      "   - Perform complex, multi-step tasks\n",
      "   - Maintain state across interactions\n",
      "   - Dynamically adapt to new information\n",
      "\n",
      "4. Structure: LangGraph allows developers to build AI agents using a graph-based structure, which can help in creating more complex and interconnected decision-making processes.\n",
      "\n",
      "5. Integration: As an extension of LangChain, it likely integrates well with other LangChain components and workflows.\n",
      "\n",
      "6. Open Source: LangGraph is available on GitHub, indicating it's an open-source project that developers can contribute to and modify.\n",
      "\n",
      "7. Documentation: There appears to be comprehensive documentation available, including guides and examples for using LangGraph.\n",
      "\n",
      "LangGraph seems to be a cutting-edge tool in the field of AI agent development, particularly useful for creating sophisticated, stateful AI agents capable of handling complex tasks and interactions. It's part of the broader ecosystem of tools designed to make advanced AI capabilities more accessible to developers.\n"
     ]
    }
   ],
   "source": [
    "while True:\n",
    "    try:\n",
    "        user_input = input(\"User: \")\n",
    "        if user_input.lower() in [\"quit\", \"exit\", \"q\"]:\n",
    "            print(\"Goodbye!\")\n",
    "            break\n",
    "\n",
    "        stream_graph_updates(user_input)\n",
    "    except:\n",
    "        user_input = \"What do you know about LangGraph?\"\n",
    "        print(\"User: \" + user_input)\n",
    "        stream_graph_updates(user_input)\n",
    "        break"
   ]
  }
 ],
 "metadata": {
  "kernelspec": {
   "display_name": "Langgraph Python 3.11",
   "language": "python",
   "name": "langgraph-env"
  },
  "language_info": {
   "codemirror_mode": {
    "name": "ipython",
    "version": 3
   },
   "file_extension": ".py",
   "mimetype": "text/x-python",
   "name": "python",
   "nbconvert_exporter": "python",
   "pygments_lexer": "ipython3",
   "version": "3.11.11"
  }
 },
 "nbformat": 4,
 "nbformat_minor": 2
}
