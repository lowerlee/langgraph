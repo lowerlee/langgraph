{
 "cells": [
  {
   "cell_type": "markdown",
   "metadata": {},
   "source": [
    "# Government Documents RAG System with LangGraph\n",
    "\n",
    "This notebook demonstrates how to build a RAG (Retrieval-Augmented Generation) system for government documents using LangGraph and Claude."
   ]
  },
  {
   "cell_type": "markdown",
   "metadata": {},
   "source": [
    "## 1. Setup and Installation\n",
    "\n",
    "First, let's install the required dependencies if they're not already installed:"
   ]
  },
  {
   "cell_type": "code",
   "execution_count": null,
   "metadata": {},
   "outputs": [],
   "source": [
    "!pip install langchain-chroma chromadb unstructured sentence-transformers"
   ]
  },
  {
   "cell_type": "code",
   "execution_count": 1,
   "metadata": {},
   "outputs": [],
   "source": [
    "import os\n",
    "import getpass\n",
    "from typing import Annotated, List, Dict, Any, TypedDict, Optional\n",
    "from typing_extensions import TypedDict\n",
    "import sys\n",
    "\n",
    "# LangChain imports\n",
    "from langchain.text_splitter import RecursiveCharacterTextSplitter\n",
    "from langchain_community.document_loaders import DirectoryLoader, PyPDFLoader, TextLoader\n",
    "from langchain_community.vectorstores import Chroma\n",
    "from langchain_chroma import Chroma as LCChroma\n",
    "from langchain_community.embeddings import HuggingFaceEmbeddings\n",
    "from langchain_anthropic import ChatAnthropic\n",
    "from langchain.schema import Document\n",
    "\n",
    "# LangGraph imports\n",
    "from langgraph.graph import StateGraph, START, END\n",
    "from langgraph.graph.message import add_messages\n",
    "from langgraph.checkpoint.memory import MemorySaver"
   ]
  },
  {
   "cell_type": "markdown",
   "metadata": {},
   "source": [
    "## 2. Set API Keys"
   ]
  },
  {
   "cell_type": "code",
   "execution_count": 2,
   "metadata": {},
   "outputs": [],
   "source": [
    "def set_env(var: str):\n",
    "    if not os.environ.get(var):\n",
    "        os.environ[var] = getpass.getpass(f\"{var}: \")\n",
    "\n",
    "set_env(\"ANTHROPIC_API_KEY\")"
   ]
  },
  {
   "cell_type": "markdown",
   "metadata": {},
   "source": [
    "## 3. Document Processing\n",
    "\n",
    "We'll create a class to handle loading and processing documents from a directory."
   ]
  },
  {
   "cell_type": "code",
   "execution_count": 3,
   "metadata": {},
   "outputs": [],
   "source": [
    "class DocumentProcessor:\n",
    "    def __init__(self, docs_dir: str, chunk_size: int = 1000, chunk_overlap: int = 200):\n",
    "        self.docs_dir = docs_dir\n",
    "        self.chunk_size = chunk_size\n",
    "        self.chunk_overlap = chunk_overlap\n",
    "        self.text_splitter = RecursiveCharacterTextSplitter(\n",
    "            chunk_size=self.chunk_size,\n",
    "            chunk_overlap=self.chunk_overlap,\n",
    "            length_function=len,\n",
    "        )\n",
    "        \n",
    "    def load_documents(self) -> List[Document]:\n",
    "        \"\"\"Load documents from the specified directory\"\"\"\n",
    "        # Create directory if it doesn't exist\n",
    "        if not os.path.exists(self.docs_dir):\n",
    "            os.makedirs(self.docs_dir)\n",
    "            print(f\"Created directory: {self.docs_dir}\")\n",
    "            return []\n",
    "            \n",
    "        # Load PDFs\n",
    "        pdf_loader = DirectoryLoader(self.docs_dir, glob=\"**/*.pdf\", loader_cls=PyPDFLoader)\n",
    "        # Load text files\n",
    "        text_loader = DirectoryLoader(self.docs_dir, glob=\"**/*.txt\", loader_cls=TextLoader)\n",
    "        \n",
    "        # Load the documents\n",
    "        pdf_docs = pdf_loader.load() if any(f.endswith('.pdf') for f in os.listdir(self.docs_dir)) else []\n",
    "        text_docs = text_loader.load() if any(f.endswith('.txt') for f in os.listdir(self.docs_dir)) else []\n",
    "        \n",
    "        # Combine all documents\n",
    "        all_docs = pdf_docs + text_docs\n",
    "        \n",
    "        print(f\"Loaded {len(all_docs)} documents\")\n",
    "        return all_docs\n",
    "    \n",
    "    def process_documents(self, documents: List[Document]) -> List[Document]:\n",
    "        \"\"\"Split documents into chunks for vectorization\"\"\"\n",
    "        if not documents:\n",
    "            print(\"No documents to process\")\n",
    "            return []\n",
    "            \n",
    "        chunked_documents = self.text_splitter.split_documents(documents)\n",
    "        print(f\"Split into {len(chunked_documents)} chunks\")\n",
    "        return chunked_documents"
   ]
  },
  {
   "cell_type": "markdown",
   "metadata": {},
   "source": [
    "## 4. Vector Store Setup\n",
    "\n",
    "Now let's create a vector store for document embeddings."
   ]
  },
  {
   "cell_type": "code",
   "execution_count": 10,
   "metadata": {},
   "outputs": [],
   "source": [
    "class VectorStore:\n",
    "    def __init__(self, persist_directory: str = \"./chroma_db\"):\n",
    "        self.persist_directory = persist_directory\n",
    "        self.embeddings = HuggingFaceEmbeddings(\n",
    "            model_name=\"all-MiniLM-L6-v2\",\n",
    "            model_kwargs={'device': 'cpu'},\n",
    "        )\n",
    "        self.vectordb = None\n",
    "        \n",
    "    def create_or_load_db(self, documents: Optional[List[Document]] = None) -> Chroma:\n",
    "        \"\"\"Create a new vector store or load existing one\"\"\"\n",
    "        # Create directory if it doesn't exist\n",
    "        if not os.path.exists(self.persist_directory):\n",
    "            os.makedirs(self.persist_directory)\n",
    "            \n",
    "        if documents and len(documents) > 0:\n",
    "            # Create a new vector store\n",
    "            print(f\"Creating new vector database with {len(documents)} documents\")\n",
    "            self.vectordb = LCChroma.from_documents(\n",
    "                documents=documents,\n",
    "                embedding=self.embeddings,\n",
    "                persist_directory=self.persist_directory,\n",
    "            )\n",
    "            # The persist() call is no longer needed - removal fixes the error\n",
    "            # LCChroma automatically persists when persist_directory is provided\n",
    "            print(f\"Vector database created and persisted to {self.persist_directory}\")\n",
    "        else:\n",
    "            # Load existing vector store if it exists\n",
    "            try:\n",
    "                print(f\"Loading existing vector database from {self.persist_directory}\")\n",
    "                self.vectordb = LCChroma(\n",
    "                    persist_directory=self.persist_directory,\n",
    "                    embedding_function=self.embeddings,\n",
    "                )\n",
    "                print(f\"Successfully loaded vector database with {self.vectordb._collection.count()} documents\")\n",
    "            except Exception as e:\n",
    "                print(f\"Error loading existing database: {e}\")\n",
    "                print(\"Creating an empty vector database instead\")\n",
    "                self.vectordb = LCChroma(\n",
    "                    embedding_function=self.embeddings,\n",
    "                    persist_directory=self.persist_directory,\n",
    "                )\n",
    "        \n",
    "        return self.vectordb\n",
    "    \n",
    "    def get_retriever(self, k: int = 4):\n",
    "        \"\"\"Get a retriever from the vector store\"\"\"\n",
    "        if self.vectordb is None:\n",
    "            raise ValueError(\"VectorDB not initialized. Call create_or_load_db first.\")\n",
    "        \n",
    "        return self.vectordb.as_retriever(\n",
    "            search_type=\"similarity\",\n",
    "            search_kwargs={\"k\": k}\n",
    "        )"
   ]
  },
  {
   "cell_type": "markdown",
   "metadata": {},
   "source": [
    "## 5. Create Sample Documents\n",
    "\n",
    "Before we go further, let's create some sample government documents to test with. In a real system, you would use actual government documents."
   ]
  },
  {
   "cell_type": "code",
   "execution_count": 11,
   "metadata": {},
   "outputs": [
    {
     "name": "stdout",
     "output_type": "stream",
     "text": [
      "Created 3 sample documents in ./sample_government_docs\n"
     ]
    }
   ],
   "source": [
    "# Create a directory for sample documents\n",
    "sample_docs_dir = \"./sample_government_docs\"\n",
    "if not os.path.exists(sample_docs_dir):\n",
    "    os.makedirs(sample_docs_dir)\n",
    "\n",
    "# Create sample documents\n",
    "sample_docs = [\n",
    "    {\n",
    "        \"filename\": \"education_policy_2024.txt\",\n",
    "        \"content\": \"\"\"\n",
    "# 2024 Education Policy Guidelines\n",
    "\n",
    "## Introduction\n",
    "This document outlines the government's education policy guidelines for 2024. These guidelines are designed to improve educational outcomes across all sectors.\n",
    "\n",
    "## Key Initiatives\n",
    "1. School Funding Increase: Additional $2 billion allocated to public schools nationwide.\n",
    "2. Teacher Development Program: New training programs for 50,000 teachers.\n",
    "3. Digital Learning Initiative: Providing tablets to students in underserved communities.\n",
    "4. STEM Curriculum Enhancement: Updated science and technology curricula for grades 6-12.\n",
    "\n",
    "## Implementation Timeline\n",
    "- January 2024: Funding disbursement begins\n",
    "- March 2024: Teacher development programs launch\n",
    "- June 2024: Digital device distribution starts\n",
    "- September 2024: New STEM curricula implemented\n",
    "\n",
    "## Contact Information\n",
    "For more information, contact the Department of Education at education@gov.example.org\n",
    "\"\"\"\n",
    "    },\n",
    "    {\n",
    "        \"filename\": \"healthcare_reform_2024.txt\",\n",
    "        \"content\": \"\"\"\n",
    "# Healthcare Reform Act of 2024\n",
    "\n",
    "## Executive Summary\n",
    "The Healthcare Reform Act of 2024 aims to expand healthcare coverage to all citizens while reducing overall costs and improving quality of care.\n",
    "\n",
    "## Major Provisions\n",
    "1. Universal Coverage: Extension of basic health insurance to all citizens.\n",
    "2. Prescription Drug Pricing: New regulations to cap prescription medication costs.\n",
    "3. Rural Healthcare: $1.5 billion investment in rural hospital infrastructure.\n",
    "4. Preventive Care: Expanded coverage for preventive services with no co-payments.\n",
    "5. Mental Health Parity: Requirements for equal coverage of mental and physical health conditions.\n",
    "\n",
    "## Funding Mechanisms\n",
    "- 1% increase in employer healthcare contributions\n",
    "- 0.5% tax on annual incomes over $500,000\n",
    "- Pharmaceutical industry fees based on market share\n",
    "\n",
    "## Implementation Schedule\n",
    "- Phase 1 (July 2024): Prescription drug pricing controls\n",
    "- Phase 2 (January 2025): Universal coverage enrollment begins\n",
    "- Phase 3 (July 2025): Rural healthcare infrastructure grants\n",
    "\n",
    "## Oversight\n",
    "The new Healthcare Oversight Committee will monitor implementation and report quarterly to Congress.\n",
    "\"\"\"\n",
    "    },\n",
    "    {\n",
    "        \"filename\": \"environmental_regulations_2024.txt\",\n",
    "        \"content\": \"\"\"\n",
    "# Environmental Protection Standards 2024\n",
    "\n",
    "## Purpose\n",
    "This document establishes updated environmental standards and regulations effective January 1, 2024.\n",
    "\n",
    "## Emissions Standards\n",
    "### Carbon Emissions\n",
    "- Industrial facilities must reduce carbon emissions by 25% from 2023 levels by 2026.\n",
    "- Automotive manufacturers must achieve fleet average of 45 MPG by 2025.\n",
    "- Power plants must reduce emissions by 30% by 2027.\n",
    "\n",
    "### Water Quality\n",
    "- New limits on industrial discharge into waterways:\n",
    "  - Heavy metals: maximum 0.01 ppm\n",
    "  - Chemical oxygen demand: maximum 25 mg/L\n",
    "  - Total suspended solids: maximum 30 mg/L\n",
    "\n",
    "## Protected Areas\n",
    "- 500,000 additional acres designated as protected wilderness\n",
    "- Coastal development restrictions within 2 miles of shoreline\n",
    "- Mining operations prohibited within 50 miles of national parks\n",
    "\n",
    "## Renewable Energy Targets\n",
    "- 40% of national energy from renewable sources by 2030\n",
    "- Tax incentives for solar and wind energy implementation\n",
    "- Grid modernization grants for states achieving 30% renewable energy\n",
    "\n",
    "## Enforcement\n",
    "The Environmental Protection Agency will conduct quarterly inspections with penalties of up to $1 million per violation.\n",
    "\"\"\"\n",
    "    }\n",
    "]\n",
    "\n",
    "# Write the sample documents to files\n",
    "for doc in sample_docs:\n",
    "    filepath = os.path.join(sample_docs_dir, doc[\"filename\"])\n",
    "    with open(filepath, \"w\") as f:\n",
    "        f.write(doc[\"content\"])\n",
    "        \n",
    "print(f\"Created {len(sample_docs)} sample documents in {sample_docs_dir}\")"
   ]
  },
  {
   "cell_type": "markdown",
   "metadata": {},
   "source": [
    "## 6. Build the RAG System"
   ]
  },
  {
   "cell_type": "code",
   "execution_count": 12,
   "metadata": {},
   "outputs": [],
   "source": [
    "class State(TypedDict):\n",
    "    messages: Annotated[list, add_messages]\n",
    "    retrieved_documents: Optional[List[Document]]\n",
    "\n",
    "class GovernmentDocsRAG:\n",
    "    def __init__(self, model_name: str = \"claude-3-5-sonnet-20240620\"):\n",
    "        self.memory = MemorySaver()\n",
    "        self.llm = ChatAnthropic(model=model_name)\n",
    "        \n",
    "        # Define system prompt for the chatbot\n",
    "        self.system_prompt = \"\"\"You are a helpful assistant specialized in answering questions about government documents. \n",
    "When responding:\n",
    "1. Base your answers on the retrieved documents\n",
    "2. If the documents don't contain the answer, say you don't know\n",
    "3. Always cite your sources by referencing the document name and section\n",
    "4. Be concise but thorough in your responses\n",
    "5. Format your response in a readable way\n",
    "\n",
    "Current retrieved documents for this query: {documents}\n",
    "\"\"\"\n",
    "        \n",
    "        # Initialize the graph\n",
    "        self.graph_builder = StateGraph(State)\n",
    "        \n",
    "    def build_graph(self, retriever):\n",
    "        \"\"\"Build the LangGraph flow\"\"\"\n",
    "        # Define the retriever node\n",
    "        def retrieve_documents(state: State) -> Dict[str, Any]:\n",
    "            \"\"\"Retrieve relevant documents based on the user query\"\"\"\n",
    "            # Get the latest user message\n",
    "            user_message = state[\"messages\"][-1].content\n",
    "            \n",
    "            # Retrieve documents\n",
    "            retrieved_docs = retriever.get_relevant_documents(user_message)\n",
    "            \n",
    "            # Format documents for better readability\n",
    "            return {\"retrieved_documents\": retrieved_docs}\n",
    "        \n",
    "        # Define the RAG node\n",
    "        def generate_response(state: State) -> Dict[str, Any]:\n",
    "            \"\"\"Generate a response using the LLM with retrieved documents\"\"\"\n",
    "            # Get documents\n",
    "            docs = state.get(\"retrieved_documents\", [])\n",
    "            \n",
    "            # Format documents for the prompt\n",
    "            doc_strings = []\n",
    "            for i, doc in enumerate(docs):\n",
    "                doc_strings.append(f\"Document {i+1}:\\nContent: {doc.page_content}\\nSource: {doc.metadata.get('source', 'Unknown')}\")\n",
    "            \n",
    "            formatted_docs = \"\\n\\n\".join(doc_strings)\n",
    "            \n",
    "            # Create prompt with documents\n",
    "            messages = state[\"messages\"].copy()\n",
    "            \n",
    "            # Add system prompt with documents\n",
    "            system_prompt_with_docs = self.system_prompt.format(documents=formatted_docs)\n",
    "            \n",
    "            # Create augmented LLM\n",
    "            llm_with_docs = self.llm.bind(system=system_prompt_with_docs)\n",
    "            \n",
    "            # Generate response\n",
    "            return {\"messages\": [llm_with_docs.invoke(messages)]}\n",
    "        \n",
    "        # Add nodes to the graph\n",
    "        self.graph_builder.add_node(\"retrieve\", retrieve_documents)\n",
    "        self.graph_builder.add_node(\"rag_response\", generate_response)\n",
    "        \n",
    "        # Add edges\n",
    "        self.graph_builder.add_edge(START, \"retrieve\")\n",
    "        self.graph_builder.add_edge(\"retrieve\", \"rag_response\")\n",
    "        self.graph_builder.add_edge(\"rag_response\", END)\n",
    "        \n",
    "        # Compile the graph\n",
    "        self.graph = self.graph_builder.compile(checkpointer=self.memory)\n",
    "        \n",
    "        return self.graph\n",
    "    \n",
    "    def chat(self, user_input: str, thread_id: str = \"default\"):\n",
    "        \"\"\"Chat with the RAG system\"\"\"\n",
    "        config = {\"configurable\": {\"thread_id\": thread_id}}\n",
    "        \n",
    "        result = self.graph.invoke(\n",
    "            {\"messages\": [{\"role\": \"user\", \"content\": user_input}]},\n",
    "            config,\n",
    "        )\n",
    "        \n",
    "        # Return the AI's response\n",
    "        return result[\"messages\"][-1].content\n",
    "    \n",
    "    def get_conversation_history(self, thread_id: str = \"default\"):\n",
    "        \"\"\"Get the full conversation history\"\"\"\n",
    "        config = {\"configurable\": {\"thread_id\": thread_id}}\n",
    "        state = self.graph.get_state(config)\n",
    "        \n",
    "        # Return all messages if available\n",
    "        if state and \"messages\" in state.values:\n",
    "            return state.values[\"messages\"]\n",
    "        return []"
   ]
  },
  {
   "cell_type": "markdown",
   "metadata": {},
   "source": [
    "## 7. Set Up the RAG Pipeline"
   ]
  },
  {
   "cell_type": "code",
   "execution_count": 13,
   "metadata": {},
   "outputs": [
    {
     "name": "stdout",
     "output_type": "stream",
     "text": [
      "Loaded 3 documents\n",
      "Split into 5 chunks\n"
     ]
    }
   ],
   "source": [
    "# Process the sample documents\n",
    "doc_processor = DocumentProcessor(docs_dir=sample_docs_dir)\n",
    "raw_docs = doc_processor.load_documents()\n",
    "processed_docs = doc_processor.process_documents(raw_docs)"
   ]
  },
  {
   "cell_type": "code",
   "execution_count": 14,
   "metadata": {},
   "outputs": [
    {
     "name": "stdout",
     "output_type": "stream",
     "text": [
      "Creating new vector database with 5 documents\n",
      "Vector database created and persisted to ./sample_government_docs_db\n"
     ]
    }
   ],
   "source": [
    "# Set up the vector store\n",
    "vector_store = VectorStore(persist_directory=\"./sample_government_docs_db\")\n",
    "vector_db = vector_store.create_or_load_db(documents=processed_docs)\n",
    "retriever = vector_store.get_retriever(k=3)"
   ]
  },
  {
   "cell_type": "code",
   "execution_count": 15,
   "metadata": {},
   "outputs": [
    {
     "data": {
      "image/png": "[encoded data removed]",
      "text/plain": [
       "<langgraph.graph.state.CompiledStateGraph object at 0x7f2a583f8d10>"
      ]
     },
     "execution_count": 15,
     "metadata": {},
     "output_type": "execute_result"
    }
   ],
   "source": [
    "# Set up the RAG system\n",
    "rag_system = GovernmentDocsRAG()\n",
    "rag_system.build_graph(retriever)"
   ]
  },
  {
   "cell_type": "markdown",
   "metadata": {},
   "source": [
    "## 8. Example Interactions\n",
    "\n",
    "Let's interact with our RAG system by asking questions about the government documents."
   ]
  },
  {
   "cell_type": "code",
   "execution_count": 16,
   "metadata": {},
   "outputs": [
    {
     "name": "stdout",
     "output_type": "stream",
     "text": [
      "Question: What is the budget allocation for public schools in 2024?\n"
     ]
    },
    {
     "name": "stderr",
     "output_type": "stream",
     "text": [
      "/tmp/ipykernel_2641/785899133.py:34: LangChainDeprecationWarning: The method `BaseRetriever.get_relevant_documents` was deprecated in langchain-core 0.1.46 and will be removed in 1.0. Use :meth:`~invoke` instead.\n",
      "  retrieved_docs = retriever.get_relevant_documents(user_message)\n"
     ]
    },
    {
     "name": "stdout",
     "output_type": "stream",
     "text": [
      "Response: According to the 2024 Education Policy Guidelines, there is an additional $2 billion allocated to public schools nationwide. This is listed under the \"Key Initiatives\" section as the first item: \"School Funding Increase: Additional $2 billion allocated to public schools nationwide.\" \n",
      "\n",
      "The implementation timeline indicates that the funding disbursement will begin in January 2024.\n",
      "\n",
      "Source: sample_government_docs/education_policy_2024.txt, Key Initiatives and Implementation Timeline sections.\n"
     ]
    }
   ],
   "source": [
    "# Example 1: Ask about education policy\n",
    "question1 = \"What is the budget allocation for public schools in 2024?\"\n",
    "print(f\"Question: {question1}\")\n",
    "response1 = rag_system.chat(question1, thread_id=\"demo_session\")\n",
    "print(f\"Response: {response1}\")"
   ]
  },
  {
   "cell_type": "code",
   "execution_count": null,
   "metadata": {},
   "outputs": [],
   "source": [
    "# Example 2: Ask about healthcare reform\n",
    "question2 = \"What are the funding mechanisms for the Healthcare Reform Act?\"\n",
    "print(f\"Question: {question2}\")\n",
    "response2 = rag_system.chat(question2, thread_id=\"demo_session\")\n",
    "print(f\"Response: {response2}\")"
   ]
  },
  {
   "cell_type": "code",
   "execution_count": null,
   "metadata": {},
   "outputs": [],
   "source": [
    "# Example 3: Ask a follow-up question to test memory\n",
    "question3 = \"When will these funding mechanisms be implemented?\"\n",
    "print(f\"Question: {question3}\")\n",
    "response3 = rag_system.chat(question3, thread_id=\"demo_session\")\n",
    "print(f\"Response: {response3}\")"
   ]
  },
  {
   "cell_type": "code",
   "execution_count": null,
   "metadata": {},
   "outputs": [],
   "source": [
    "# Example 4: Ask about environmental regulations\n",
    "question4 = \"What are the new carbon emission targets for power plants?\"\n",
    "print(f\"Question: {question4}\")\n",
    "response4 = rag_system.chat(question4, thread_id=\"demo_session\")\n",
    "print(f\"Response: {response4}\")"
   ]
  },
  {
   "cell_type": "code",
   "execution_count": null,
   "metadata": {},
   "outputs": [],
   "source": [
    "# Example 5: Ask about something not in the documents\n",
    "question5 = \"What is the government's policy on international trade?\"\n",
    "print(f\"Question: {question5}\")\n",
    "response5 = rag_system.chat(question5, thread_id=\"demo_session\")\n",
    "print(f\"Response: {response5}\")"
   ]
  },
  {
   "cell_type": "markdown",
   "metadata": {},
   "source": [
    "## 9. Get Conversation History\n",
    "\n",
    "Let's retrieve the full conversation history to verify that our memory is working."
   ]
  },
  {
   "cell_type": "code",
   "execution_count": null,
   "metadata": {},
   "outputs": [],
   "source": [
    "# Get conversation history\n",
    "history = rag_system.get_conversation_history(thread_id=\"demo_session\")\n",
    "for i, message in enumerate(history):\n",
    "    if message.role == \"user\":\n",
    "        print(f\"User: {message.content}\")\n",
    "    else:\n",
    "        print(f\"Assistant: {message.content[:100]}...\")\n",
    "    print(\"-\" * 50)"
   ]
  },
  {
   "cell_type": "markdown",
   "metadata": {},
   "source": [
    "## 10. Working with Your Own Government Documents\n",
    "\n",
    "To use this system with your own government documents:\n",
    "\n",
    "1. Create a directory for your documents\n",
    "2. Add your PDF and/or text files to this directory\n",
    "3. Update the document processor to point to your directory\n",
    "4. Run the processing and vector store creation steps\n",
    "5. Initialize the RAG system with your retriever\n",
    "\n",
    "Here's a template for how you would do this:"
   ]
  },
  {
   "cell_type": "code",
   "execution_count": null,
   "metadata": {},
   "outputs": [],
   "source": [
    "# Example: Set up with your own documents\n",
    "'''\n",
    "# Define your documents directory\n",
    "my_docs_dir = \"./my_government_docs\"\n",
    "\n",
    "# Process your documents\n",
    "doc_processor = DocumentProcessor(docs_dir=my_docs_dir)\n",
    "raw_docs = doc_processor.load_documents()\n",
    "processed_docs = doc_processor.process_documents(raw_docs)\n",
    "\n",
    "# Set up vector store with your documents\n",
    "vector_store = VectorStore(persist_directory=\"./my_government_docs_db\")\n",
    "vector_db = vector_store.create_or_load_db(documents=processed_docs)\n",
    "retriever = vector_store.get_retriever(k=4)\n",
    "\n",
    "# Set up RAG system\n",
    "rag_system = GovernmentDocsRAG()\n",
    "rag_system.build_graph(retriever)\n",
    "\n",
    "# Start interacting\n",
    "response = rag_system.chat(\"What is the government's policy on X?\", thread_id=\"my_session\")\n",
    "print(response)\n",
    "'''"
   ]
  }
 ],
 "metadata": {
  "kernelspec": {
   "display_name": "Langgraph Python 3.11",
   "language": "python",
   "name": "langgraph-env"
  },
  "language_info": {
   "codemirror_mode": {
    "name": "ipython",
    "version": 3
   },
   "file_extension": ".py",
   "mimetype": "text/x-python",
   "name": "python",
   "nbconvert_exporter": "python",
   "pygments_lexer": "ipython3",
   "version": "3.11.11"
  }
 },
 "nbformat": 4,
 "nbformat_minor": 2
}
