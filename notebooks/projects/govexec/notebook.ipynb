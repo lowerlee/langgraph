{
 "cells": [
  {
   "cell_type": "code",
   "execution_count": 1,
   "id": "cab46ef9",
   "metadata": {},
   "outputs": [
    {
     "name": "stdout",
     "output_type": "stream",
     "text": [
      "Scraping article published on 2025-07-24: Court filing reveals which offices at 17 agencies the Trump administration had slated for layoffs\n",
      "Scraping article published on 2025-07-24: Why federal retirements are spiking this year\n",
      "Scraping article published on 2025-07-24: Trump’s controversial OSC nominee pulled from confirmation hearing\n",
      "Scraping article published on 2025-07-24: Whistleblower bill for contractors gains bipartisan support with Grassley’s backing\n",
      "Scraping article published on 2025-07-24: USDA to relocate thousands of staff outside Washington, consolidate dozens of offices\n",
      "Scraping article published on 2025-07-24: Another judge has dismissed the Trump administration’s effort to pre-clear anti-union EO\n",
      "Scraping article published on 2025-07-23: Lawmakers pursue parallel paths toward blocking Trump’s anti-union order\n",
      "Scraping article published on 2025-07-23: Most Americans oppose RIFs, but a good-government group says anti-layoff messaging needs to be improved\n",
      "Scraping article published on 2025-07-23: Russ Vought bills CFPB $5M for his security detail\n",
      "Scraping article published on 2025-07-23: Agency RIF plans will remain secret for now after court blocks release\n",
      "Scraping article published on 2025-07-23: Why a federal program paying employees not to work may violate spending laws\n",
      "Scraping article published on 2025-07-22: OMB wants to break down barriers for CIOs, White House official says\n",
      "Scraping article published on 2025-07-22: Unions, good government groups urge rejection of Trump’s OSC nominee\n",
      "Scraping article published on 2025-07-22: Former federal science leaders warn Trump proposals could cripple U.S. research\n",
      "Scraping article published on 2025-07-22: OMB memo lays out GSA's plan to consolidate contracts\n",
      "Scraping article published on 2025-07-22: New OPM head plans to cement focus on efficiency\n",
      "Scraping article published on 2025-07-21: This EPA research office safeguarded Americans’ health. Trump just eliminated it\n",
      "Scraping article published on 2025-07-21: Judge orders Trump administration to ‘stop violating the law!’ and publish spending details\n",
      "Scraping article published on 2025-07-21: Amid ongoing federal layoffs, new fellowships offer opportunities for affected employees\n",
      "Scraping article published on 2025-07-21: State Department deputy Michael Rigas tapped as acting GSA head\n",
      "Scraping article published on 2025-07-21: VA launches a departmentwide 'review of its mission' as it seeks changes to its operations\n",
      "Scraping article published on 2025-07-18: Census has long struggled with staffing shortages. Employees say Trump is making it worse\n",
      "Scraping article published on 2025-07-18: Senate spending panel axes provision moving FBI headquarters to Maryland\n",
      "Scraping article published on 2025-07-18: Trump creates 'Schedule G' to add more political appointees to agencies top ranks\n",
      "Scraped 24 articles.\n"
     ]
    }
   ],
   "source": [
    "from datetime import datetime\n",
    "from utils.govexec_scraper import scrape_govexec_articles\n",
    "\n",
    "# Define the output path\n",
    "output_path = \"/workspaces/langgraph/outputs/govexec\"\n",
    "\n",
    "# Run the scraper\n",
    "articles = scrape_govexec_articles(output_path)\n",
    "\n",
    "# Display the number of articles scraped\n",
    "print(f\"Scraped {len(articles)} articles.\")"
   ]
  }
 ],
 "metadata": {
  "kernelspec": {
   "display_name": "Langgraph Python 3.11",
   "language": "python",
   "name": "langgraph-env"
  },
  "language_info": {
   "codemirror_mode": {
    "name": "ipython",
    "version": 3
   },
   "file_extension": ".py",
   "mimetype": "text/x-python",
   "name": "python",
   "nbconvert_exporter": "python",
   "pygments_lexer": "ipython3",
   "version": "3.11.11"
  }
 },
 "nbformat": 4,
 "nbformat_minor": 5
}
