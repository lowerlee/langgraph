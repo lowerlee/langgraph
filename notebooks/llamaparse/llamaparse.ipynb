{
 "cells": [
  {
   "cell_type": "code",
   "execution_count": 12,
   "metadata": {},
   "outputs": [
    {
     "name": "stdout",
     "output_type": "stream",
     "text": [
      "Started parsing the file under job_id cfbd2fca-b24c-4240-aba3-1a4d694043b3\n"
     ]
    }
   ],
   "source": [
    "from llama_cloud_services import LlamaParse\n",
    "\n",
    "parser = LlamaParse(\n",
    "    api_key=\"llx-93ebTbrt3xDiCFN0pCK5izC4PFcFsG6zJL2umjb1sZzTzD4H\",\n",
    "    num_workers=4,\n",
    "    verbose=True,\n",
    "    language=\"en\",\n",
    ")\n",
    "\n",
    "source = \"documents/H.R.1968 - Full-Year Continuing Appropriations and Extensions Act, 03-14-2025.pdf\"\n",
    "\n",
    "result = parser.parse(source)"
   ]
  },
  {
   "cell_type": "code",
   "execution_count": null,
   "metadata": {},
   "outputs": [],
   "source": []
  }
 ],
 "metadata": {
  "language_info": {
   "name": "python"
  }
 },
 "nbformat": 4,
 "nbformat_minor": 2
}
