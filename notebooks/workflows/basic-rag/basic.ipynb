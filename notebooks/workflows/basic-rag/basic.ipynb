{
 "cells": [
  {
   "cell_type": "code",
   "execution_count": 1,
   "id": "9114beb3",
   "metadata": {},
   "outputs": [],
   "source": [
    "import sys\n",
    "\n",
    "sys.path.insert(0, \"/workspaces/langgraph/utils\")\n",
    "\n",
    "from llamaparse import *"
   ]
  },
  {
   "cell_type": "code",
   "execution_count": null,
   "id": "038de446",
   "metadata": {},
   "outputs": [
    {
     "name": "stdout",
     "output_type": "stream",
     "text": [
      "Started parsing the file under job_id 6e95a639-1c01-4698-b9fc-f7ae2c84867f\n"
     ]
    }
   ],
   "source": [
    "source = \"documents/H.R.1968 - Full-Year Continuing Appropriations and Extensions Act, 03-14-2025.pdf\"\n",
    "source = \"documents/H.R.1968 - Full-Year Continuing Appropriations and Extensions Act, 03-14-2025.pdf\"\n",
    "\n",
    "result = parse_document(source)"
   ]
  },
  {
   "cell_type": "code",
   "execution_count": 7,
   "id": "c3247f7b",
   "metadata": {},
   "outputs": [
    {
     "name": "stdout",
     "output_type": "stream",
     "text": [
      "Exported to /workspaces/langgraph/data/parsed_document.md\n"
     ]
    }
   ],
   "source": [
    "markdown_docs = result.get_markdown_documents()\n",
    "markdown_content = markdown_docs[0].text\n",
    "\n",
    "output_path = \"/workspaces/langgraph/data/parsed_document.md\"\n",
    "with open(output_path, \"w\", encoding=\"utf-8\") as f:\n",
    "    f.write(markdown_content)\n",
    "\n",
    "print(f\"Exported to {output_path}\")"
   ]
  }
 ],
 "metadata": {
  "kernelspec": {
   "display_name": "Langgraph Python 3.11",
   "language": "python",
   "name": "langgraph-env"
  },
  "language_info": {
   "codemirror_mode": {
    "name": "ipython",
    "version": 3
   },
   "file_extension": ".py",
   "mimetype": "text/x-python",
   "name": "python",
   "nbconvert_exporter": "python",
   "pygments_lexer": "ipython3",
   "version": "3.11.11"
  }
 },
 "nbformat": 4,
 "nbformat_minor": 5
}
